{
 "cells": [
  {
   "cell_type": "code",
   "execution_count": 1,
   "metadata": {},
   "outputs": [
    {
     "name": "stdout",
     "output_type": "stream",
     "text": [
      "                   A         B         C\n",
      "2023-07-04  1.299050  0.306813  0.492290\n",
      "2023-07-05  0.519785  0.263192  1.100119\n",
      "2023-07-06 -0.898573 -0.135448 -0.629592\n",
      "2023-07-07  0.461394 -0.673825  0.626115\n",
      "2023-07-08 -1.766748 -0.797305  0.410855\n"
     ]
    }
   ],
   "source": [
    "import numpy as np\n",
    "import pandas as pd"
   ]
  },
  {
   "cell_type": "code",
   "execution_count": null,
   "metadata": {},
   "outputs": [],
   "source": [
    "data = np.random.randn(5,3)\n",
    "columns = ['A', 'B', 'C']\n",
    "index = pd.date_range(\"2023-07-04\", periods=5)"
   ]
  },
  {
   "cell_type": "code",
   "execution_count": 2,
   "metadata": {},
   "outputs": [
    {
     "name": "stdout",
     "output_type": "stream",
     "text": [
      "                   A         B         C\n",
      "2023-07-04  1.299050  0.306813  0.492290\n",
      "2023-07-05  0.519785  0.263192  1.100119\n",
      "2023-07-06 -0.898573 -0.135448 -0.629592\n",
      "2023-07-07  0.461394 -0.673825  0.626115\n",
      "2023-07-08 -1.766748 -0.797305  0.410855\n"
     ]
    }
   ],
   "source": [
    "\n",
    "df = pd.DataFrame(data, index=index, columns=columns)\n",
    "print(df)"
   ]
  }
 ],
 "metadata": {
  "kernelspec": {
   "display_name": "Python 3",
   "language": "python",
   "name": "python3"
  },
  "language_info": {
   "codemirror_mode": {
    "name": "ipython",
    "version": 3
   },
   "file_extension": ".py",
   "mimetype": "text/x-python",
   "name": "python",
   "nbconvert_exporter": "python",
   "pygments_lexer": "ipython3",
   "version": "3.11.4"
  },
  "orig_nbformat": 4
 },
 "nbformat": 4,
 "nbformat_minor": 2
}
